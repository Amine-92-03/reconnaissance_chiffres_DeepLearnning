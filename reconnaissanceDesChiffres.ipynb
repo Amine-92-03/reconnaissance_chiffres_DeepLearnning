{
  "nbformat": 4,
  "nbformat_minor": 0,
  "metadata": {
    "colab": {
      "name": "Untitled1.ipynb",
      "provenance": [],
      "authorship_tag": "ABX9TyMQ7L0vO/uVOamko3pK4rCz",
      "include_colab_link": true
    },
    "kernelspec": {
      "name": "python3",
      "display_name": "Python 3"
    },
    "language_info": {
      "name": "python"
    }
  },
  "cells": [
    {
      "cell_type": "markdown",
      "metadata": {
        "id": "view-in-github",
        "colab_type": "text"
      },
      "source": [
        "<a href=\"https://colab.research.google.com/github/Amine-92-03/reconnaissance_chiffres_DeepLearnning/blob/master/reconnaissanceDesChiffres.ipynb\" target=\"_parent\"><img src=\"https://colab.research.google.com/assets/colab-badge.svg\" alt=\"Open In Colab\"/></a>"
      ]
    },
    {
      "cell_type": "code",
      "execution_count": 1,
      "metadata": {
        "id": "sZojVUysr-X1"
      },
      "outputs": [],
      "source": [
        "from sklearn import datasets, svm , metrics"
      ]
    },
    {
      "cell_type": "code",
      "source": [
        "import matplotlib.pyplot as plt"
      ],
      "metadata": {
        "id": "-P7JaU6RwqeR"
      },
      "execution_count": 2,
      "outputs": []
    }
  ]
}